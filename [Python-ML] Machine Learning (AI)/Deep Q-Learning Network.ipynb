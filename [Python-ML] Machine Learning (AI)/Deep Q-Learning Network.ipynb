{
 "cells": [
  {
   "cell_type": "markdown",
   "metadata": {},
   "source": [
    "# Treasure Hunt Game Notebook"
   ]
  },
  {
   "cell_type": "code",
   "execution_count": 1,
   "metadata": {},
   "outputs": [
    {
     "name": "stderr",
     "output_type": "stream",
     "text": [
      "Using TensorFlow backend.\n"
     ]
    }
   ],
   "source": [
    "from __future__ import print_function\n",
    "import os, sys, time, datetime, json, random\n",
    "import numpy as np\n",
    "from keras.models import Sequential\n",
    "from keras.layers.core import Dense, Activation\n",
    "from keras.optimizers import SGD , Adam, RMSprop\n",
    "from keras.layers.advanced_activations import PReLU\n",
    "import matplotlib.pyplot as plt\n",
    "from TreasureMaze import TreasureMaze\n",
    "from GameExperience import GameExperience\n",
    "%matplotlib inline"
   ]
  },
  {
   "cell_type": "markdown",
   "metadata": {},
   "source": [
    "The following code block contains the maze object (8x8 matrix)"
   ]
  },
  {
   "cell_type": "code",
   "execution_count": 2,
   "metadata": {},
   "outputs": [],
   "source": [
    "maze = np.array([\n",
    "    [ 1.,  0.,  1.,  1.,  1.,  1.,  1.,  1.],\n",
    "    [ 1.,  0.,  1.,  1.,  1.,  0.,  1.,  1.],\n",
    "    [ 1.,  1.,  1.,  1.,  0.,  1.,  0.,  1.],\n",
    "    [ 1.,  1.,  1.,  0.,  1.,  1.,  1.,  1.],\n",
    "    [ 1.,  1.,  0.,  1.,  1.,  1.,  1.,  1.],\n",
    "    [ 1.,  1.,  1.,  0.,  1.,  0.,  0.,  0.],\n",
    "    [ 1.,  1.,  1.,  0.,  1.,  1.,  1.,  1.],\n",
    "    [ 1.,  1.,  1.,  1.,  0.,  1.,  1.,  1.]\n",
    "])"
   ]
  },
  {
   "cell_type": "markdown",
   "metadata": {},
   "source": [
    "Helper function for visual representation of maze object:"
   ]
  },
  {
   "cell_type": "code",
   "execution_count": 3,
   "metadata": {},
   "outputs": [],
   "source": [
    "def show(qmaze):\n",
    "    plt.grid('on')\n",
    "    nrows, ncols = qmaze.maze.shape\n",
    "    ax = plt.gca()\n",
    "    ax.set_xticks(np.arange(0.5, nrows, 1))\n",
    "    ax.set_yticks(np.arange(0.5, ncols, 1))\n",
    "    ax.set_xticklabels([])\n",
    "    ax.set_yticklabels([])\n",
    "    canvas = np.copy(qmaze.maze)\n",
    "    for row,col in qmaze.visited:\n",
    "        canvas[row,col] = 0.6\n",
    "    pirate_row, pirate_col, _ = qmaze.state\n",
    "    canvas[pirate_row, pirate_col] = 0.3   # pirate cell\n",
    "    canvas[nrows-1, ncols-1] = 0.9 # treasure cell\n",
    "    img = plt.imshow(canvas, interpolation='none', cmap='gray')\n",
    "    return img"
   ]
  },
  {
   "cell_type": "markdown",
   "metadata": {},
   "source": [
    "The pirate agent can move in four directions: left, right, up, and down. \n",
    "\n",
    "While the agent primarily learns by experience through exploitation, often, the agent can choose to explore the environment to find previously undiscovered paths. This is called \"exploration\" and is defined by epsilon. This value is typically a lower value such as 0.1, which means for every ten attempts, the agent will attempt to learn by experience nine times and will randomly explore a new path one time. You are encouraged to try various values for the exploration factor and see how the algorithm performs."
   ]
  },
  {
   "cell_type": "code",
   "execution_count": 4,
   "metadata": {},
   "outputs": [],
   "source": [
    "# Constants\n",
    "LEFT = 0\n",
    "UP = 1\n",
    "RIGHT = 2\n",
    "DOWN = 3\n",
    "\n",
    "# Exploration factor (exploration:exploitation)\n",
    "epsilon = 0.5  # sets to 0.05 (no decay) once win rate is 90+%\n",
    "\n",
    "# Actions dictionary\n",
    "actions_dict = {\n",
    "    LEFT:  'left',\n",
    "    UP:    'up',\n",
    "    RIGHT: 'right',\n",
    "    DOWN:  'down',\n",
    "}\n",
    "\n",
    "num_actions = len(actions_dict)\n"
   ]
  },
  {
   "cell_type": "markdown",
   "metadata": {},
   "source": [
    "The sample code block and output below show creating a maze object and performing one action (DOWN), which returns the reward. The resulting updated environment is visualized."
   ]
  },
  {
   "cell_type": "code",
   "execution_count": 5,
   "metadata": {},
   "outputs": [
    {
     "name": "stdout",
     "output_type": "stream",
     "text": [
      "reward= -0.04\n"
     ]
    },
    {
     "data": {
      "text/plain": [
       "<matplotlib.image.AxesImage at 0x1b476e70c88>"
      ]
     },
     "execution_count": 5,
     "metadata": {},
     "output_type": "execute_result"
    },
    {
     "data": {
      "image/png": "[encoded data removed]",
      "text/plain": [
       "<Figure size 432x288 with 1 Axes>"
      ]
     },
     "metadata": {
      "needs_background": "light"
     },
     "output_type": "display_data"
    }
   ],
   "source": [
    "qmaze = TreasureMaze(maze)\n",
    "canvas, reward, game_over = qmaze.act(DOWN)\n",
    "print(\"reward=\", reward)\n",
    "show(qmaze)"
   ]
  },
  {
   "cell_type": "markdown",
   "metadata": {},
   "source": [
    "This function simulates a full game based on the provided trained model. The other parameters include the TreasureMaze object and the starting position of the pirate."
   ]
  },
  {
   "cell_type": "code",
   "execution_count": 6,
   "metadata": {},
   "outputs": [],
   "source": [
    "def play_game(model, qmaze, pirate_cell):\n",
    "    qmaze.reset(pirate_cell)\n",
    "    envstate = qmaze.observe()\n",
    "    while True:\n",
    "        prev_envstate = envstate\n",
    "        # get next action\n",
    "        q = model.predict(prev_envstate)\n",
    "        action = np.argmax(q[0])\n",
    "\n",
    "        # apply action, get rewards and new state\n",
    "        envstate, reward, game_status = qmaze.act(action)\n",
    "        if game_status == 'win':\n",
    "            return True\n",
    "        elif game_status == 'lose':\n",
    "            return False"
   ]
  },
  {
   "cell_type": "markdown",
   "metadata": {},
   "source": [
    "This function helps you to determine whether the pirate can win any game at all. If your maze is not well designed, the pirate may not win any game at all. In this case, your training would not yield any result. The provided maze in this notebook ensures that there is a path to win and you can run this method to check."
   ]
  },
  {
   "cell_type": "code",
   "execution_count": 7,
   "metadata": {},
   "outputs": [],
   "source": [
    "def completion_check(model, qmaze):\n",
    "    for cell in qmaze.free_cells:\n",
    "        if not qmaze.valid_actions(cell):\n",
    "            return False\n",
    "        if not play_game(model, qmaze, cell):\n",
    "            return False\n",
    "    return True"
   ]
  },
  {
   "cell_type": "markdown",
   "metadata": {},
   "source": [
    "The code you have been given in this block will build the neural network model. Review the code and note the number of layers, as well as the activation, optimizer, and loss functions that are used to train the model."
   ]
  },
  {
   "cell_type": "code",
   "execution_count": 8,
   "metadata": {},
   "outputs": [],
   "source": [
    "def build_model(maze):\n",
    "    # Sequential: linear stack of layers\n",
    "    model = Sequential()\n",
    "    # dense input layer: input_shape=maze.size\n",
    "    model.add(Dense(maze.size, input_shape=(maze.size,)))\n",
    "    # PReLU (Parametric ReLU) activation function for non-linearity & complex learning\n",
    "    model.add(PReLU())\n",
    "    # dense hidden layer: size = maze.size\n",
    "    model.add(Dense(maze.size))\n",
    "    # PReLu activation layer\n",
    "    model.add(PReLU())\n",
    "    # dense output layer: number of units = num_actions\n",
    "    model.add(Dense(num_actions))  # predicts best action in a given state\n",
    "    # Adam optimizer: adaptive (dynamic) learning rate optimizer\n",
    "    # MSE (Mean Squared Error) loss function: estimates continous Q-values (regression)\n",
    "    model.compile(optimizer='adam', loss='mse')\n",
    "    # return built model\n",
    "    return model"
   ]
  },
  {
   "cell_type": "markdown",
   "metadata": {},
   "source": [
    "# #Q-Training Algorithm\n",
    "\n",
    "This is your deep Q-learning implementation. The goal of your deep Q-learning implementation is to find the best possible navigation sequence that results in reaching the treasure cell while maximizing the reward. In your implementation, you need to determine the optimal number of epochs to achieve a 100% win rate."
   ]
  },
  {
   "cell_type": "code",
   "execution_count": 9,
   "metadata": {},
   "outputs": [],
   "source": [
    "def qtrain(model, maze, **opt):\n",
    "\n",
    "    # exploration factor\n",
    "    global epsilon \n",
    "\n",
    "    # fetches 'opt' dict's key value. If key doesn't exist, returns default value of 15000\n",
    "    n_epoch = opt.get('n_epoch', 15000)  # max number of epochs (iterations) over training dataset\n",
    "\n",
    "    # maximum memory to store episodes\n",
    "    max_memory = opt.get('max_memory', 1000)\n",
    "\n",
    "    # maximum data size for training\n",
    "    data_size = opt.get('data_size', 50)\n",
    "\n",
    "    # start time\n",
    "    start_time = datetime.datetime.now()\n",
    "\n",
    "    # Construct environment/game from numpy array: maze (see above)\n",
    "    qmaze = TreasureMaze(maze)\n",
    "\n",
    "    # Experience replay improves learning by using a random subset of experiences\n",
    "    # and breaks correlation between consecutive learning steps to lead to more stable convergence\n",
    "    experience = GameExperience(model, max_memory=max_memory)\n",
    "    \n",
    "    win_history = []   # history of win/lose game\n",
    "    hsize = qmaze.maze.size // 2   # history window size\n",
    "    win_rate = 0.0\n",
    "    \n",
    "    print(\n",
    "        '******************************\\n' +\n",
    "        '********** Starting **********\\n' +\n",
    "        '******************************\\n' +\n",
    "        '\\nPlease wait...\\n')\n",
    "    \n",
    "    # For each epoch:\n",
    "    for epoch in range(n_epoch):  # number of epochs (iterations) over training dataset\n",
    "        loss = 0.0\n",
    "        \n",
    "        # agent_cell = randomly select a free cell\n",
    "        agent_cell = random.choice(qmaze.free_cells)\n",
    "        \n",
    "        # Reset the maze with agent set to random free cell\n",
    "        qmaze.reset(agent_cell)\n",
    "        \n",
    "        # Initial observation of the environment's state after resetting the maze\n",
    "        envstate = qmaze.observe()\n",
    "    \n",
    "        game_status = 'not_over'\n",
    "        game_over = False\n",
    "        n_episodes = 0\n",
    "    \n",
    "        # While state is not game over:\n",
    "        while not game_over:\n",
    "\n",
    "            # Get available actions based on board position\n",
    "            valid_actions = qmaze.valid_actions()\n",
    "            \n",
    "            # Break loop if no valid actions\n",
    "            if not valid_actions:\n",
    "                break\n",
    "\n",
    "            if np.random.rand() < epsilon:\n",
    "                # Exploration: choose a random action\n",
    "                # to avoid local optima and find global optimum (new better actions)\n",
    "                action = random.choice(valid_actions)\n",
    "            \n",
    "            else:\n",
    "                # Exploitation: choose the action with the highest Q-value for the current state\n",
    "                action = np.argmax(experience.predict(envstate))  # value function\n",
    "                # (Q) value function: Q_sa = np.max(self.predict(envstate_next))\n",
    "                \n",
    "            previous_envstate = envstate\n",
    "            envstate, reward, game_status = qmaze.act(action)\n",
    "\n",
    "            # tally each win\n",
    "            if game_status == 'win':\n",
    "                win_history.append(1)\n",
    "                game_over = True\n",
    "            \n",
    "            elif game_status == 'lose':\n",
    "                win_history.append(0)\n",
    "                game_over = True\n",
    "            \n",
    "            else:  # 'not_over'\n",
    "                game_over = False  # game still going\n",
    "            \n",
    "            episode = [\n",
    "                previous_envstate,\n",
    "                action,\n",
    "                reward,\n",
    "                envstate,\n",
    "                game_over\n",
    "            ]\n",
    "    \n",
    "            # Store episode in Experience replay object\n",
    "            experience.remember(episode)\n",
    "            n_episodes += 1\n",
    "            \n",
    "            inputs, targets = experience.get_data(data_size=data_size)\n",
    "            \n",
    "            #TODO Train neural network model\n",
    "            model.fit(\n",
    "                inputs,         # input data to the model\n",
    "                targets,        # target data (or labels) the model should learn to predict\n",
    "                epochs=16,      # number of epochs to train the AI model on each game iteration\n",
    "                batch_size=16,  # number of samples per gradient update for training\n",
    "                verbose=0       # 0 = silent, 1 = progress bar, 2 = one line per epoch\n",
    "            )\n",
    "\n",
    "            # Determine loss\n",
    "            loss = model.evaluate(\n",
    "                inputs,\n",
    "                targets,\n",
    "                verbose=0\n",
    "            )\n",
    "            \n",
    "        # Print the epoch, loss, episodes, win count, and win rate (for each epoch)\n",
    "        dt = datetime.datetime.now() - start_time\n",
    "        t = format_time(dt.total_seconds())\n",
    "        template = \"Epoch: {:03d}/{:d} | Loss: {:.4f} | Episodes: {:d} | Win count: {:d} | Win rate: {:.3f} | time: {}\"\n",
    "        print(template.format(epoch, n_epoch-1, loss, n_episodes, sum(win_history), win_rate, t))\n",
    "\n",
    "        # Epoch is over if win rate is above threshold and model passes the completion check\n",
    "        if len(win_history) > hsize:\n",
    "            win_rate = sum(win_history[-hsize:]) / hsize\n",
    "        if win_rate > 0.9 : epsilon = 0.05  # hard lowers explore rate from 0.1 to 0.05 once 90% games won       # Checks if training has exhausted all free cells & if agent won 100%.\n",
    "        if sum(win_history[-hsize:]) == hsize and completion_check(model, qmaze):\n",
    "            print(\"Reached 100%% win rate at epoch: %d\" % (epoch,))\n",
    "            break\n",
    "            \n",
    "    # Determine the total time for training\n",
    "    dt = datetime.datetime.now() - start_time\n",
    "    seconds = dt.total_seconds()\n",
    "    t = format_time(seconds)\n",
    "\n",
    "    print(\"n_epoch: %d, max_mem: %d, data: %d, time: %s\" % (epoch, max_memory, data_size, t))\n",
    "    return seconds  # t (seconds) value will be printed to console due to being last assigned value\n",
    "\n",
    "# This is a small utility for printing readable time strings:\n",
    "def format_time(seconds):\n",
    "    if seconds < 400:\n",
    "        s = float(seconds)\n",
    "        return \"%.1f seconds\" % (s,)\n",
    "    elif seconds < 4000:\n",
    "        m = seconds / 60.0\n",
    "        return \"%.2f minutes\" % (m,)\n",
    "    else:\n",
    "        h = seconds / 3600.0\n",
    "        return \"%.2f hours\" % (h,)"
   ]
  },
  {
   "cell_type": "markdown",
   "metadata": {},
   "source": [
    "## Test Your Model\n",
    "\n",
    "Now we will start testing the deep Q-learning implementation. To begin, select **Cell**, then **Run All** from the menu bar. This will run your notebook. As it runs, you should see output begin to appear beneath the next few cells. The code below creates an instance of TreasureMaze."
   ]
  },
  {
   "cell_type": "code",
   "execution_count": 10,
   "metadata": {},
   "outputs": [
    {
     "data": {
      "text/plain": [
       "<matplotlib.image.AxesImage at 0x1b476f391c8>"
      ]
     },
     "execution_count": 10,
     "metadata": {},
     "output_type": "execute_result"
    },
    {
     "data": {
      "image/png": "[encoded data removed]",
      "text/plain": [
       "<Figure size 432x288 with 1 Axes>"
      ]
     },
     "metadata": {
      "needs_background": "light"
     },
     "output_type": "display_data"
    }
   ],
   "source": [
    "qmaze = TreasureMaze(maze)\n",
    "show(qmaze)"
   ]
  },
  {
   "cell_type": "markdown",
   "metadata": {},
   "source": [
    "In the next code block, you will build your model and train it using deep Q-learning. Note: This step takes several minutes to fully run."
   ]
  },
  {
   "cell_type": "code",
   "execution_count": 11,
   "metadata": {
    "scrolled": false
   },
   "outputs": [
    {
     "name": "stdout",
     "output_type": "stream",
     "text": [
      "******************************\n",
      "********** Starting **********\n",
      "******************************\n",
      "\n",
      "Please wait...\n",
      "\n",
      "Epoch: 000/999 | Loss: 0.0022 | Episodes: 141 | Win count: 0 | Win rate: 0.000 | time: 37.2 seconds\n",
      "Epoch: 001/999 | Loss: 0.0264 | Episodes: 159 | Win count: 0 | Win rate: 0.000 | time: 78.8 seconds\n",
      "Epoch: 002/999 | Loss: 0.0350 | Episodes: 142 | Win count: 0 | Win rate: 0.000 | time: 116.6 seconds\n",
      "Epoch: 003/999 | Loss: 0.0033 | Episodes: 3 | Win count: 1 | Win rate: 0.000 | time: 117.5 seconds\n",
      "Epoch: 004/999 | Loss: 0.0051 | Episodes: 149 | Win count: 1 | Win rate: 0.000 | time: 156.9 seconds\n",
      "Epoch: 005/999 | Loss: 0.0021 | Episodes: 8 | Win count: 2 | Win rate: 0.000 | time: 159.1 seconds\n",
      "Epoch: 006/999 | Loss: 0.0203 | Episodes: 78 | Win count: 3 | Win rate: 0.000 | time: 179.7 seconds\n",
      "Epoch: 007/999 | Loss: 0.0050 | Episodes: 148 | Win count: 3 | Win rate: 0.000 | time: 218.9 seconds\n",
      "Epoch: 008/999 | Loss: 0.0016 | Episodes: 148 | Win count: 3 | Win rate: 0.000 | time: 248.6 seconds\n",
      "Epoch: 009/999 | Loss: 0.0174 | Episodes: 143 | Win count: 3 | Win rate: 0.000 | time: 273.2 seconds\n",
      "Epoch: 010/999 | Loss: 0.0021 | Episodes: 150 | Win count: 3 | Win rate: 0.000 | time: 299.0 seconds\n",
      "Epoch: 011/999 | Loss: 0.0026 | Episodes: 136 | Win count: 3 | Win rate: 0.000 | time: 321.7 seconds\n",
      "Epoch: 012/999 | Loss: 0.0010 | Episodes: 134 | Win count: 4 | Win rate: 0.000 | time: 345.1 seconds\n",
      "Epoch: 013/999 | Loss: 0.0212 | Episodes: 151 | Win count: 4 | Win rate: 0.000 | time: 375.0 seconds\n",
      "Epoch: 014/999 | Loss: 0.0031 | Episodes: 139 | Win count: 4 | Win rate: 0.000 | time: 6.71 minutes\n",
      "Epoch: 015/999 | Loss: 0.0432 | Episodes: 129 | Win count: 5 | Win rate: 0.000 | time: 7.11 minutes\n",
      "Epoch: 016/999 | Loss: 0.0040 | Episodes: 17 | Win count: 6 | Win rate: 0.000 | time: 7.17 minutes\n",
      "Epoch: 017/999 | Loss: 0.0073 | Episodes: 140 | Win count: 7 | Win rate: 0.000 | time: 7.62 minutes\n",
      "Epoch: 018/999 | Loss: 0.0147 | Episodes: 1 | Win count: 8 | Win rate: 0.000 | time: 7.62 minutes\n",
      "Epoch: 019/999 | Loss: 0.0078 | Episodes: 87 | Win count: 9 | Win rate: 0.000 | time: 7.90 minutes\n",
      "Epoch: 020/999 | Loss: 0.0068 | Episodes: 64 | Win count: 10 | Win rate: 0.000 | time: 8.10 minutes\n",
      "Epoch: 021/999 | Loss: 0.0083 | Episodes: 29 | Win count: 11 | Win rate: 0.000 | time: 8.20 minutes\n",
      "Epoch: 022/999 | Loss: 0.0033 | Episodes: 43 | Win count: 12 | Win rate: 0.000 | time: 8.34 minutes\n",
      "Epoch: 023/999 | Loss: 0.0028 | Episodes: 144 | Win count: 13 | Win rate: 0.000 | time: 8.81 minutes\n",
      "Epoch: 024/999 | Loss: 0.0025 | Episodes: 2 | Win count: 14 | Win rate: 0.000 | time: 8.82 minutes\n",
      "Epoch: 025/999 | Loss: 0.0011 | Episodes: 47 | Win count: 15 | Win rate: 0.000 | time: 8.97 minutes\n",
      "Epoch: 026/999 | Loss: 0.0025 | Episodes: 40 | Win count: 16 | Win rate: 0.000 | time: 9.10 minutes\n",
      "Epoch: 027/999 | Loss: 0.0020 | Episodes: 100 | Win count: 17 | Win rate: 0.000 | time: 9.43 minutes\n",
      "Epoch: 028/999 | Loss: 0.0041 | Episodes: 45 | Win count: 18 | Win rate: 0.000 | time: 9.58 minutes\n",
      "Epoch: 029/999 | Loss: 0.0017 | Episodes: 50 | Win count: 19 | Win rate: 0.000 | time: 9.72 minutes\n",
      "Epoch: 030/999 | Loss: 0.0048 | Episodes: 66 | Win count: 20 | Win rate: 0.000 | time: 9.93 minutes\n",
      "Epoch: 031/999 | Loss: 0.0013 | Episodes: 4 | Win count: 21 | Win rate: 0.000 | time: 9.94 minutes\n",
      "Epoch: 032/999 | Loss: 0.0032 | Episodes: 49 | Win count: 22 | Win rate: 0.000 | time: 10.09 minutes\n",
      "Epoch: 033/999 | Loss: 0.0022 | Episodes: 35 | Win count: 23 | Win rate: 0.688 | time: 10.20 minutes\n",
      "Epoch: 034/999 | Loss: 0.0025 | Episodes: 11 | Win count: 24 | Win rate: 0.719 | time: 10.24 minutes\n",
      "Epoch: 035/999 | Loss: 0.0015 | Episodes: 93 | Win count: 25 | Win rate: 0.750 | time: 10.54 minutes\n",
      "Epoch: 036/999 | Loss: 0.0015 | Episodes: 53 | Win count: 26 | Win rate: 0.750 | time: 10.70 minutes\n",
      "Epoch: 037/999 | Loss: 0.0024 | Episodes: 11 | Win count: 27 | Win rate: 0.781 | time: 10.74 minutes\n",
      "Epoch: 038/999 | Loss: 0.0017 | Episodes: 78 | Win count: 28 | Win rate: 0.781 | time: 11.00 minutes\n",
      "Epoch: 039/999 | Loss: 0.0009 | Episodes: 49 | Win count: 29 | Win rate: 0.781 | time: 11.16 minutes\n",
      "Epoch: 040/999 | Loss: 0.0021 | Episodes: 31 | Win count: 30 | Win rate: 0.812 | time: 11.27 minutes\n",
      "Epoch: 041/999 | Loss: 0.0024 | Episodes: 34 | Win count: 31 | Win rate: 0.844 | time: 11.38 minutes\n",
      "Epoch: 042/999 | Loss: 0.0026 | Episodes: 43 | Win count: 32 | Win rate: 0.875 | time: 11.52 minutes\n",
      "Epoch: 043/999 | Loss: 0.0012 | Episodes: 16 | Win count: 33 | Win rate: 0.906 | time: 11.57 minutes\n",
      "Epoch: 044/999 | Loss: 0.0018 | Episodes: 19 | Win count: 34 | Win rate: 0.938 | time: 11.63 minutes\n",
      "Epoch: 045/999 | Loss: 0.0026 | Episodes: 29 | Win count: 35 | Win rate: 0.938 | time: 11.72 minutes\n",
      "Epoch: 046/999 | Loss: 0.0014 | Episodes: 21 | Win count: 36 | Win rate: 0.969 | time: 11.79 minutes\n",
      "Epoch: 047/999 | Loss: 0.0022 | Episodes: 18 | Win count: 37 | Win rate: 1.000 | time: 11.85 minutes\n",
      "Epoch: 048/999 | Loss: 0.0034 | Episodes: 34 | Win count: 38 | Win rate: 1.000 | time: 11.96 minutes\n",
      "Epoch: 049/999 | Loss: 0.0022 | Episodes: 11 | Win count: 39 | Win rate: 1.000 | time: 12.00 minutes\n",
      "Epoch: 050/999 | Loss: 0.0008 | Episodes: 30 | Win count: 40 | Win rate: 1.000 | time: 12.10 minutes\n",
      "Epoch: 051/999 | Loss: 0.0012 | Episodes: 25 | Win count: 41 | Win rate: 1.000 | time: 12.18 minutes\n",
      "Epoch: 052/999 | Loss: 0.0015 | Episodes: 13 | Win count: 42 | Win rate: 1.000 | time: 12.22 minutes\n",
      "Epoch: 053/999 | Loss: 0.0017 | Episodes: 11 | Win count: 43 | Win rate: 1.000 | time: 12.26 minutes\n",
      "Epoch: 054/999 | Loss: 0.0006 | Episodes: 14 | Win count: 44 | Win rate: 1.000 | time: 12.31 minutes\n",
      "Epoch: 055/999 | Loss: 0.0015 | Episodes: 26 | Win count: 45 | Win rate: 1.000 | time: 12.40 minutes\n",
      "Epoch: 056/999 | Loss: 0.0008 | Episodes: 12 | Win count: 46 | Win rate: 1.000 | time: 12.44 minutes\n",
      "Epoch: 057/999 | Loss: 0.0010 | Episodes: 30 | Win count: 47 | Win rate: 1.000 | time: 12.55 minutes\n",
      "Epoch: 058/999 | Loss: 0.0011 | Episodes: 17 | Win count: 48 | Win rate: 1.000 | time: 12.61 minutes\n",
      "Epoch: 059/999 | Loss: 0.0008 | Episodes: 22 | Win count: 49 | Win rate: 1.000 | time: 12.69 minutes\n",
      "Epoch: 060/999 | Loss: 0.0010 | Episodes: 30 | Win count: 50 | Win rate: 1.000 | time: 12.79 minutes\n",
      "Epoch: 061/999 | Loss: 0.0005 | Episodes: 17 | Win count: 51 | Win rate: 1.000 | time: 12.84 minutes\n",
      "Epoch: 062/999 | Loss: 0.0007 | Episodes: 23 | Win count: 52 | Win rate: 1.000 | time: 12.92 minutes\n",
      "Epoch: 063/999 | Loss: 0.0011 | Episodes: 20 | Win count: 53 | Win rate: 1.000 | time: 12.99 minutes\n",
      "Epoch: 064/999 | Loss: 0.0008 | Episodes: 1 | Win count: 54 | Win rate: 1.000 | time: 13.00 minutes\n",
      "Epoch: 065/999 | Loss: 0.0004 | Episodes: 36 | Win count: 55 | Win rate: 1.000 | time: 13.12 minutes\n",
      "Epoch: 066/999 | Loss: 0.0004 | Episodes: 11 | Win count: 56 | Win rate: 1.000 | time: 13.17 minutes\n",
      "Epoch: 067/999 | Loss: 0.0003 | Episodes: 1 | Win count: 57 | Win rate: 1.000 | time: 13.18 minutes\n",
      "Reached 100% win rate at epoch: 67\n",
      "n_epoch: 67, max_mem: 512, data: 32, time: 13.19 minutes\n"
     ]
    },
    {
     "data": {
      "text/plain": [
       "791.66964"
      ]
     },
     "execution_count": 11,
     "metadata": {},
     "output_type": "execute_result"
    }
   ],
   "source": [
    "model = build_model(maze)\n",
    "qtrain(model, maze, n_epoch=1000, max_memory=8*maze.size, data_size=32)"
   ]
  },
  {
   "cell_type": "markdown",
   "metadata": {},
   "source": [
    "This cell will check to see if the model passes the completion check. Note: This could take several minutes."
   ]
  },
  {
   "cell_type": "code",
   "execution_count": 12,
   "metadata": {},
   "outputs": [
    {
     "data": {
      "text/plain": [
       "<matplotlib.image.AxesImage at 0x1b477683a48>"
      ]
     },
     "execution_count": 12,
     "metadata": {},
     "output_type": "execute_result"
    },
    {
     "data": {
      "image/png": "[encoded data removed]",
      "text/plain": [
       "<Figure size 432x288 with 1 Axes>"
      ]
     },
     "metadata": {
      "needs_background": "light"
     },
     "output_type": "display_data"
    }
   ],
   "source": [
    "completion_check(model, qmaze)\n",
    "show(qmaze)"
   ]
  },
  {
   "cell_type": "markdown",
   "metadata": {},
   "source": [
    "This cell will test your model for one game. It will start the pirate at the top-left corner and run play_game. The agent should find a path from the starting position to the target (treasure). The treasure is located in the bottom-right corner."
   ]
  },
  {
   "cell_type": "code",
   "execution_count": 13,
   "metadata": {},
   "outputs": [
    {
     "data": {
      "text/plain": [
       "<matplotlib.image.AxesImage at 0x1b47d926e08>"
      ]
     },
     "execution_count": 13,
     "metadata": {},
     "output_type": "execute_result"
    },
    {
     "data": {
      "image/png": "[encoded data removed]",
      "text/plain": [
       "<Figure size 432x288 with 1 Axes>"
      ]
     },
     "metadata": {
      "needs_background": "light"
     },
     "output_type": "display_data"
    }
   ],
   "source": [
    "pirate_start = (0, 0)\n",
    "play_game(model, qmaze, pirate_start)\n",
    "show(qmaze)"
   ]
  },
  {
   "cell_type": "code",
   "execution_count": null,
   "metadata": {},
   "outputs": [],
   "source": []
  }
 ],
 "metadata": {
  "kernelspec": {
   "display_name": "Python 3",
   "language": "python",
   "name": "python3"
  },
  "language_info": {
   "codemirror_mode": {
    "name": "ipython",
    "version": 3
   },
   "file_extension": ".py",
   "mimetype": "text/x-python",
   "name": "python",
   "nbconvert_exporter": "python",
   "pygments_lexer": "ipython3",
   "version": "3.7.4"
  }
 },
 "nbformat": 4,
 "nbformat_minor": 2
}
